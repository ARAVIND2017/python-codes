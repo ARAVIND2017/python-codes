{
  "nbformat": 4,
  "nbformat_minor": 0,
  "metadata": {
    "colab": {
      "provenance": [],
      "authorship_tag": "ABX9TyNIZGHE4EfpHpDNLWP2tpUX",
      "include_colab_link": true
    },
    "kernelspec": {
      "name": "python3",
      "display_name": "Python 3"
    },
    "language_info": {
      "name": "python"
    }
  },
  "cells": [
    {
      "cell_type": "markdown",
      "metadata": {
        "id": "view-in-github",
        "colab_type": "text"
      },
      "source": [
        "<a href=\"https://colab.research.google.com/github/ARAVIND2017/python-codes/blob/main/day04.ipynb\" target=\"_parent\"><img src=\"https://colab.research.google.com/assets/colab-badge.svg\" alt=\"Open In Colab\"/></a>"
      ]
    },
    {
      "cell_type": "code",
      "source": [
        "#convert a temperature from celsius to fahrenheit.\n",
        "temp=int(input(\"enter the temperature\"))\n",
        "fer=(temp*9/5) + 32\n",
        "print(fer)"
      ],
      "metadata": {
        "id": "W7-YEREYutlI",
        "colab": {
          "base_uri": "https://localhost:8080/"
        },
        "outputId": "9112c359-667b-4c13-e50c-ed1e95ac6914"
      },
      "execution_count": null,
      "outputs": [
        {
          "output_type": "stream",
          "name": "stdout",
          "text": [
            "enter the temperature26\n",
            "78.8\n"
          ]
        }
      ]
    },
    {
      "cell_type": "code",
      "source": [
        "from google.colab import drive\n",
        "drive.mount('/content/drive')"
      ],
      "metadata": {
        "id": "hpMiYh9FUiIh"
      },
      "execution_count": null,
      "outputs": []
    },
    {
      "cell_type": "code",
      "source": [
        "#count the number of vowels in a string.\n",
        "\n",
        "text=input()\n",
        "count=0\n",
        "for char in text:\n",
        "  if(char in\"aAeEiIoOuU\"):\n",
        " # if(char in 'a','A','e','E','i','I','o','O','u','U'):\n",
        "     count+=1\n",
        "print(\"count:\",count)"
      ],
      "metadata": {
        "colab": {
          "base_uri": "https://localhost:8080/"
        },
        "id": "vVRvTwm3nBfZ",
        "outputId": "30422da3-764e-4b95-9b70-66d76799b28f"
      },
      "execution_count": null,
      "outputs": [
        {
          "output_type": "stream",
          "name": "stdout",
          "text": [
            "i love u\n",
            "count: 4\n"
          ]
        }
      ]
    },
    {
      "cell_type": "code",
      "source": [
        "#find the second largest element in a list.\n",
        "\n",
        "l=[12,23,45,67,89,44,55,88,99,]\n",
        "l.sort()\n",
        "print(l[-2])"
      ],
      "metadata": {
        "colab": {
          "base_uri": "https://localhost:8080/"
        },
        "id": "q5xgk6oupG70",
        "outputId": "2ce5f871-95aa-40e4-f989-b442c6927f62"
      },
      "execution_count": null,
      "outputs": [
        {
          "output_type": "stream",
          "name": "stdout",
          "text": [
            "89\n"
          ]
        }
      ]
    },
    {
      "cell_type": "code",
      "source": [
        "#count the occurrences of each element in a list.\n",
        "\n",
        "num=[1,2,3,4,5,6,7,7,56,56,56,56,78]\n",
        "count_ara=num.count(56)\n",
        "print(count_ara)\n"
      ],
      "metadata": {
        "colab": {
          "base_uri": "https://localhost:8080/"
        },
        "id": "r9S4qosWp1Pa",
        "outputId": "c1b66090-1786-4d4c-9e8c-1a485270e8e0"
      },
      "execution_count": null,
      "outputs": [
        {
          "output_type": "stream",
          "name": "stdout",
          "text": [
            "4\n"
          ]
        }
      ]
    },
    {
      "cell_type": "code",
      "source": [
        "##count the occurrences of each element in a list.\n",
        "char=['a','c','d','a','a']\n",
        "count_amigo=char.count('a')\n",
        "print(count_amigo)"
      ],
      "metadata": {
        "colab": {
          "base_uri": "https://localhost:8080/"
        },
        "id": "V11uglznsVJs",
        "outputId": "9d2a8dd3-9eeb-45a9-8c64-1bd48c6cff53"
      },
      "execution_count": null,
      "outputs": [
        {
          "output_type": "stream",
          "name": "stdout",
          "text": [
            "3\n"
          ]
        }
      ]
    },
    {
      "cell_type": "code",
      "source": [
        "#find the sum of all even numbers in a list.\n",
        "\n",
        "num=[1,2,3,4,5,6,7]\n",
        "\n",
        "for n in num :\n",
        "      if n % 2== 0:\n",
        "\n",
        "        print(n)"
      ],
      "metadata": {
        "colab": {
          "base_uri": "https://localhost:8080/"
        },
        "id": "51WCBPhe-Lqe",
        "outputId": "292fa658-28c8-4d97-9859-73ab06fe8e9f"
      },
      "execution_count": null,
      "outputs": [
        {
          "output_type": "stream",
          "name": "stdout",
          "text": [
            "2\n",
            "4\n",
            "6\n"
          ]
        }
      ]
    },
    {
      "cell_type": "code",
      "source": [
        "#Reverse the words in a given sentence.\n",
        "str=\"have a good day\"\n",
        "new_str=str[::-1]\n",
        "print(new_str)"
      ],
      "metadata": {
        "colab": {
          "base_uri": "https://localhost:8080/"
        },
        "id": "GF8GDtwODHEG",
        "outputId": "e2d938d8-1015-4f0a-bbae-51ab71cf97bb"
      },
      "execution_count": null,
      "outputs": [
        {
          "output_type": "stream",
          "name": "stdout",
          "text": [
            "yad doog a evah\n"
          ]
        }
      ]
    }
  ]
}