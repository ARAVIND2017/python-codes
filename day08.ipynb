{
 "cells": [
  {
   "cell_type": "code",
   "execution_count": 1,
   "id": "8e11216c-b003-40a9-8d9d-f9a8c33cc32a",
   "metadata": {},
   "outputs": [
    {
     "name": "stdout",
     "output_type": "stream",
     "text": [
      "['a', 'b', 'c', 'd']\n",
      "c\n",
      "b\n",
      "a\n"
     ]
    }
   ],
   "source": [
    "stack=[]\n",
    "stack.append('a')\n",
    "stack.append('b')\n",
    "stack.append('c')\n",
    "stack.append('d')\n",
    "print(stack)\n",
    "stack.pop()\n",
    "for i in  range (len(stack)-1,-1,-1): \n",
    "    print(stack[i])\n"
   ]
  },
  {
   "cell_type": "code",
   "execution_count": 9,
   "id": "4bbe997b-ab7a-4cca-8c34-3d8c69f2d7eb",
   "metadata": {},
   "outputs": [
    {
     "name": "stdout",
     "output_type": "stream",
     "text": [
      "d l r o w   o l l e h "
     ]
    }
   ],
   "source": [
    "my_string = \"hello world\"\n",
    "stack = []\n",
    "\n",
    "for char in my_string:\n",
    "    stack.append(char)\n",
    "while stack:\n",
    "    print(stack.pop(), end=\" \")\n",
    "\n",
    "#print()\n"
   ]
  },
  {
   "cell_type": "code",
   "execution_count": 10,
   "id": "38859c9f-e332-4ea9-acb9-bf8b19d0f77d",
   "metadata": {},
   "outputs": [
    {
     "name": "stdout",
     "output_type": "stream",
     "text": [
      "world hello "
     ]
    }
   ],
   "source": [
    "my_string = \"hello world\"\n",
    "stack = []\n",
    "\n",
    "for char in my_string.split():\n",
    "    stack.append(char)\n",
    "while stack:\n",
    "    print(stack.pop(), end=\" \")"
   ]
  },
  {
   "cell_type": "code",
   "execution_count": null,
   "id": "ec173ebe-f747-4ded-8d54-da747411d31b",
   "metadata": {},
   "outputs": [],
   "source": []
  },
  {
   "cell_type": "code",
   "execution_count": null,
   "id": "354f681d-33a2-4493-aae6-ab57f48491cd",
   "metadata": {},
   "outputs": [],
   "source": []
  },
  {
   "cell_type": "code",
   "execution_count": 2,
   "id": "c95dee32-f658-4c8d-81ca-9fa6474be0e9",
   "metadata": {},
   "outputs": [
    {
     "name": "stdin",
     "output_type": "stream",
     "text": [
      " f+h\n"
     ]
    },
    {
     "name": "stdout",
     "output_type": "stream",
     "text": [
      " fh+\n"
     ]
    }
   ],
   "source": [
    "def prec(c):\n",
    "    if c == '^':\n",
    "        return 3\n",
    "    elif c == '/' or '*':\n",
    "        return 2\n",
    "    elif c == '+' or '-':\n",
    "        return 1\n",
    "    else:\n",
    "        return -1\n",
    "def associativity(c):\n",
    "    if c == '^':\n",
    "        return 'R'\n",
    "    else:\n",
    "        return 'L'\n",
    "\n",
    "exp=input()\n",
    "result=\" \"\n",
    "s=[]\n",
    "for e in exp:\n",
    "    if e.isalnum():\n",
    "        result+=e\n",
    "    elif e == '(' or '[' or '{':\n",
    "        s.append(e)\n",
    "    elif e== ')' or ']' or '}':\n",
    "        while s or s[-1] != '('or '['  or '{':\n",
    "            result += s.pop()\n",
    "        s.pop()\n",
    "    else:\n",
    "        while s and (prec(e)<prec(s[-1])or (prec(e) == prec(s[-1]) and associativity(e) == 'L')):\n",
    "            result+=s.pop()\n",
    "        s.append(e)\n",
    "while s:\n",
    "    result+=s.pop()\n",
    "print(result)"
   ]
  },
  {
   "cell_type": "code",
   "execution_count": null,
   "id": "5c11939d-2571-4d2f-b65c-6749762fe48a",
   "metadata": {},
   "outputs": [],
   "source": [
    "s=input()\n",
    "\n",
    "for e in s:\n",
    "    if e== '(' or e=='{' or e=='[':\n",
    "        s.append(e)\n",
    "    elif e== ')' or e=='}' or e==']':\n",
    "        if e==s[-1]:\n",
    "            s.pop()\n",
    "        else:\n",
    "            break;\n",
    "    else:\n",
    "        continue\n",
    "\n",
    "if not s:\n",
    "    print(\"valid\")\n",
    "else:\n",
    "    print(\"invalid\")"
   ]
  }
 ],
 "metadata": {
  "kernelspec": {
   "display_name": "Python 3 (ipykernel)",
   "language": "python",
   "name": "python3"
  },
  "language_info": {
   "codemirror_mode": {
    "name": "ipython",
    "version": 3
   },
   "file_extension": ".py",
   "mimetype": "text/x-python",
   "name": "python",
   "nbconvert_exporter": "python",
   "pygments_lexer": "ipython3",
   "version": "3.12.3"
  }
 },
 "nbformat": 4,
 "nbformat_minor": 5
}
